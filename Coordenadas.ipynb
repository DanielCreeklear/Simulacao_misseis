{
  "nbformat": 4,
  "nbformat_minor": 0,
  "metadata": {
    "colab": {
      "name": "Coordenadas.ipynb",
      "provenance": [],
      "collapsed_sections": [],
      "authorship_tag": "ABX9TyMLj1H4a/BYaZvx5vk/x49g",
      "include_colab_link": true
    },
    "kernelspec": {
      "name": "python3",
      "display_name": "Python 3"
    }
  },
  "cells": [
    {
      "cell_type": "markdown",
      "metadata": {
        "id": "view-in-github",
        "colab_type": "text"
      },
      "source": [
        "<a href=\"https://colab.research.google.com/github/DanielCreeklear/Simulacao_misseis/blob/main/Coordenadas.ipynb\" target=\"_parent\"><img src=\"https://colab.research.google.com/assets/colab-badge.svg\" alt=\"Open In Colab\"/></a>"
      ]
    },
    {
      "cell_type": "markdown",
      "metadata": {
        "id": "9JovM50VNRye"
      },
      "source": [
        "# Imports"
      ]
    },
    {
      "cell_type": "code",
      "metadata": {
        "id": "1mgYdbcTu-z5"
      },
      "source": [
        "import pandas as pd\r\n",
        "import numpy as np\r\n",
        "import matplotlib.pyplot as plt\r\n",
        "import random\r\n",
        "from tqdm import tqdm"
      ],
      "execution_count": 1,
      "outputs": []
    },
    {
      "cell_type": "markdown",
      "metadata": {
        "id": "B_XieeO7NVhO"
      },
      "source": [
        "# Funções"
      ]
    },
    {
      "cell_type": "code",
      "metadata": {
        "id": "8mHHaZDSyO-A"
      },
      "source": [
        "def criarCoordenadas(quantidade, intervalo):\r\n",
        "  default_latitude = float(-23.0000001)\r\n",
        "  default_longitude = float(-46.0000001)\r\n",
        "  latitude = [round(random.uniform(default_latitude, default_latitude - intervalo), 7) for x in range(quantidade)]\r\n",
        "  longitude = [round(random.uniform(default_longitude, default_longitude - intervalo), 7) for x in range(quantidade)]\r\n",
        "  coordenadas = {'latitude': latitude, 'longitude': longitude}\r\n",
        "  df = pd.DataFrame(coordenadas)\r\n",
        "  return df"
      ],
      "execution_count": 2,
      "outputs": []
    },
    {
      "cell_type": "markdown",
      "metadata": {
        "id": "MLAo9CS_M7pG"
      },
      "source": [
        "Fórmula para converter Latitude ou Longitude em decimal\r\n",
        "\r\n",
        "![image.png](data:image/png;base64,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)"
      ]
    },
    {
      "cell_type": "code",
      "metadata": {
        "id": "sMzlZuhluCR-"
      },
      "source": [
        "def converterGraus_Metros(Graus, Minutos, Segundos):\r\n",
        "  # Fórmula completa encontra-se abaixo, mas por se tratar de distâncias menores, foi apenas considerado os segundos\r\n",
        "  #return ((Graus * 60) + (Minutos) + (Segundos / 60)) * 1852\r\n",
        "  return (Segundos / 60) * 1852"
      ],
      "execution_count": 4,
      "outputs": []
    },
    {
      "cell_type": "code",
      "metadata": {
        "id": "_SmdnK8z6_38"
      },
      "source": [
        "def subtrairGraus(Inicial, Final):\r\n",
        "  GrausInicial, MinutosInicial, SegundosInicial = lerCoordenadasGraus(Inicial)\r\n",
        "  GrausFinal, MinutosFinal, SegundosFinal = lerCoordenadasGraus(Final)\r\n",
        "  # Preparando para a subtração\r\n",
        "  if SegundosInicial < SegundosFinal:\r\n",
        "    if MinutosInicial > 1: \r\n",
        "      MinutosInicial -= 1\r\n",
        "    else:\r\n",
        "      GrausInicial -= 1\r\n",
        "      MinutosInicial += 59\r\n",
        "    SegundosInicial += 60\r\n",
        "  # Impedindo que apareça 1 minuto caso um dos minutos seja > 0.6\r\n",
        "  if MinutosInicial < 1:\r\n",
        "    MinutosInicial = 0\r\n",
        "  if MinutosFinal < 1:\r\n",
        "    MinutosFinal = 0\r\n",
        "  return '{0:.0f}° {1}\\' {2:.3f}\\\"'.format(float(GrausFinal - GrausInicial), int(MinutosFinal - MinutosInicial), float(SegundosFinal - SegundosInicial))"
      ],
      "execution_count": 5,
      "outputs": []
    },
    {
      "cell_type": "code",
      "metadata": {
        "id": "zZn0-lSaVSUr"
      },
      "source": [
        "def truncar(x, n):\r\n",
        "  return (((10 ** n) * x) / 10 ** n)"
      ],
      "execution_count": 6,
      "outputs": []
    },
    {
      "cell_type": "code",
      "metadata": {
        "id": "kVl_VhP2MjxQ"
      },
      "source": [
        "def converterCoordenadas_to_Decimal(graus, minutos, segundos):\r\n",
        "  return (graus + (minutos/60) + (segundos/3600))"
      ],
      "execution_count": 7,
      "outputs": []
    },
    {
      "cell_type": "code",
      "metadata": {
        "id": "0f2VGjDNMsvu"
      },
      "source": [
        "def converterDecimal_to_Coordenadas(CoordenadasDecimal):\r\n",
        "  Graus = truncar(CoordenadasDecimal, 0)\r\n",
        "  Minutos = truncar((abs(CoordenadasDecimal) * 60) % 60, 0)\r\n",
        "  Segundos = (abs(CoordenadasDecimal) * 3600) % 60\r\n",
        "  return '{0:.0f}° {1}\\' {2:.3f}\\\"'.format(Graus, int(Minutos), Segundos)"
      ],
      "execution_count": 8,
      "outputs": []
    },
    {
      "cell_type": "code",
      "metadata": {
        "id": "_7PlEs8wXV10"
      },
      "source": [
        "def lerCoordenadasGraus(CoordenadasGrau):\r\n",
        "  Coordenadas = CoordenadasGrau.replace(' ', '')\r\n",
        "  indexGraus = []\r\n",
        "  indexMinutos = []\r\n",
        "  indexSegundos = []\r\n",
        "  GrausPreenchido = False\r\n",
        "  MinutosPreenchido = False\r\n",
        "  SegundosPreenchido = False\r\n",
        "  i = 0\r\n",
        "  while i < len(Coordenadas):\r\n",
        "    caracter = Coordenadas[i]\r\n",
        "    if not (caracter.isdigit()) and not (caracter == '-') and not (caracter == '.'):\r\n",
        "      if not (GrausPreenchido):\r\n",
        "        indexGraus.append(0)\r\n",
        "        indexGraus.append(i)\r\n",
        "        GrausPreenchido = True\r\n",
        "      elif not (MinutosPreenchido):\r\n",
        "        indexMinutos.append(indexGraus[1] + 1)\r\n",
        "        indexMinutos.append(i)\r\n",
        "        MinutosPreenchido = True\r\n",
        "      elif not (SegundosPreenchido):\r\n",
        "        indexSegundos.append(indexMinutos[1] + 1)\r\n",
        "        indexSegundos.append(i)\r\n",
        "        SegundosPreenchido = True\r\n",
        "    i += 1\r\n",
        "  Graus = float(Coordenadas[indexGraus[0]:indexGraus[1]])\r\n",
        "  Minutos = float(Coordenadas[indexMinutos[0]:indexMinutos[1]])\r\n",
        "  Segundos = float(Coordenadas[indexSegundos[0]:indexSegundos[1]])\r\n",
        "  return Graus, Minutos, Segundos"
      ],
      "execution_count": 9,
      "outputs": []
    },
    {
      "cell_type": "code",
      "metadata": {
        "id": "dUmc6S9Zpstl"
      },
      "source": [
        "def calcularDistancia_DoisPontos(CoordenadasInicial, CoordenadasFinal):\n",
        "  # Corrigindo a ordem das coordenadas\n",
        "  if (CoordenadasInicial[0] > CoordenadasFinal[0] and CoordenadasInicial[1] > CoordenadasFinal[1]):\n",
        "    La1 = CoordenadasFinal[0]\n",
        "    La2 = CoordenadasInicial[0]\n",
        "    Lo1 = CoordenadasFinal[1]\n",
        "    Lo2 = CoordenadasInicial[1]\n",
        "  elif CoordenadasInicial[0] < CoordenadasFinal[0] and CoordenadasInicial[1] > CoordenadasFinal[1]:\n",
        "    La1 = CoordenadasInicial[0]\n",
        "    La2 = CoordenadasFinal[0]\n",
        "    Lo1 = CoordenadasFinal[1]\n",
        "    Lo2 = CoordenadasInicial[1]\n",
        "  elif CoordenadasInicial[0] > CoordenadasFinal[0] and CoordenadasInicial[1] < CoordenadasFinal[1]:\n",
        "    La1 = CoordenadasFinal[0]\n",
        "    La2 = CoordenadasInicial[0]\n",
        "    Lo1 = CoordenadasInicial[1]\n",
        "    Lo2 = CoordenadasFinal[1]\n",
        "  else:\n",
        "    La1 = CoordenadasInicial[0]\n",
        "    La2 = CoordenadasFinal[0]\n",
        "    Lo1 = CoordenadasInicial[1]\n",
        "    Lo2 = CoordenadasFinal[1]\n",
        "  Latitude = [La1, La2]\n",
        "  Longitude = [Lo1, Lo2]\n",
        "  # Dicionário que armazena Latitudes e Longitudes em forma de Graus\n",
        "  Coordenadas = {'Latitude':[converterDecimal_to_Coordenadas(Latitude[0]), converterDecimal_to_Coordenadas(Latitude[1])], 'Longitude':[converterDecimal_to_Coordenadas(Longitude[0]), converterDecimal_to_Coordenadas(Longitude[1])]}\n",
        "  # Subtração das distâncias\n",
        "  distanciaLatitude = subtrairGraus(Coordenadas['Latitude'][0], Coordenadas['Latitude'][1])\n",
        "  distanciaLongitude = subtrairGraus(Coordenadas['Longitude'][0], Coordenadas['Longitude'][1])\n",
        "  # Conversão em metros\n",
        "  Graus, Minutos, Segundos = lerCoordenadasGraus(distanciaLatitude)\n",
        "  a = abs(converterGraus_Metros(Graus, Minutos, Segundos))\n",
        "  Graus, Minutos, Segundos = lerCoordenadasGraus(distanciaLongitude)\n",
        "  b = abs(converterGraus_Metros(Graus, Minutos, Segundos))\n",
        "  return (a**2 + b**2)**(1/2)"
      ],
      "execution_count": 10,
      "outputs": []
    },
    {
      "cell_type": "code",
      "metadata": {
        "id": "7uUOCz98HN_4"
      },
      "source": [
        "def converterMetros_Graus(Metros):\r\n",
        "  Graus = 0\r\n",
        "  Minutos = 0\r\n",
        "  Segundos = 0.033 * Metros\r\n",
        "  return converterCoordenadas_to_Decimal(Graus, Minutos, Segundos)"
      ],
      "execution_count": 46,
      "outputs": []
    },
    {
      "cell_type": "code",
      "metadata": {
        "id": "Yc0HivT_Fj0e",
        "outputId": "c0335a39-0549-46b3-f359-809784ce222c",
        "colab": {
          "base_uri": "https://localhost:8080/"
        }
      },
      "source": [
        "PosicaoInicial = 30\r\n",
        "PosicaoFinal = 50\r\n",
        "if PosicaoFinal > PosicaoInicial:\r\n",
        "  subtracao = subtrairGraus(converterDecimal_to_Coordenadas(converterMetros_Graus(PosicaoFinal)), converterDecimal_to_Coordenadas(converterMetros_Graus(PosicaoInicial)))\r\n",
        "else:\r\n",
        "  subtracao = subtrairGraus(converterDecimal_to_Coordenadas(converterMetros_Graus(PosicaoInicial)), converterDecimal_to_Coordenadas(converterMetros_Graus(PosicaoFinal)))\r\n",
        "Graus, Minutos, Segundos = lerCoordenadasGraus(subtracao)\r\n",
        "print(int(converterGraus_Metros(Graus, Minutos, Segundos) * -1))"
      ],
      "execution_count": 71,
      "outputs": [
        {
          "output_type": "stream",
          "text": [
            "20\n"
          ],
          "name": "stdout"
        }
      ]
    },
    {
      "cell_type": "code",
      "metadata": {
        "id": "Mbq5_4gJADte"
      },
      "source": [
        "def converterIntervalosMetros(metros):\r\n",
        "  return converterMetros_Graus(metros)"
      ],
      "execution_count": 72,
      "outputs": []
    },
    {
      "cell_type": "code",
      "metadata": {
        "id": "dWw5-_o2Z4_V"
      },
      "source": [
        "def simularPontos(vezes, quantidadeFuncionarios, ladoMetros):\r\n",
        "  # Armazenamento dos resultados\r\n",
        "  ResultadoSucessos = []\r\n",
        "  ResultadoFalhas = []\r\n",
        "  TamanhoMetros = [ladoMetros for x in range(vezes)]\r\n",
        "  # Criando espaço\r\n",
        "  intervaloLatLong = converterIntervalosMetros(ladoMetros)\r\n",
        "  ConjuntoCoordenadas = criarCoordenadas(quantidadeFuncionarios, intervaloLatLong)\r\n",
        "  CirculoConfig = {'coordenadas': [(-23.0000001 - intervaloLatLong/2), (-46.0000001 - intervaloLatLong/2)], 'raio': intervaloLatLong/2}\r\n",
        "  for n in tqdm(range(vezes)):  \r\n",
        "    Sucessos = int()\r\n",
        "    Falhas = int()\r\n",
        "    for ponto in ConjuntoCoordenadas.values.tolist():\r\n",
        "      if (abs((ponto[0] - CirculoConfig['coordenadas'][0])**2) + abs((ponto[1] - CirculoConfig['coordenadas'][1])**2))**(1/2) < CirculoConfig['raio']:\r\n",
        "        Sucessos += 1\r\n",
        "      else:\r\n",
        "        Falhas += 1\r\n",
        "    ResultadoSucessos.append(Sucessos)\r\n",
        "    ResultadoFalhas.append(Falhas)\r\n",
        "  ResultadoTeste = {'Sucessos': ResultadoSucessos, 'Falhas': ResultadoFalhas, 'TamanhoLado': TamanhoMetros}\r\n",
        "  return pd.DataFrame(ResultadoTeste)"
      ],
      "execution_count": 95,
      "outputs": []
    },
    {
      "cell_type": "markdown",
      "metadata": {
        "id": "O8ZuayydNaAe"
      },
      "source": [
        "# Teste visual"
      ]
    },
    {
      "cell_type": "code",
      "metadata": {
        "colab": {
          "base_uri": "https://localhost:8080/",
          "height": 323
        },
        "id": "dfxpcDqh16DC",
        "outputId": "181f92e9-abc4-4f03-8d09-724a934f3a48"
      },
      "source": [
        "intervaloLatLong = converterIntervalosMetros(10)\r\n",
        "ConjuntoCoordenadas = criarCoordenadas(10, intervaloLatLong)\r\n",
        "\r\n",
        "CirculoConfig = {'coordenadas': [(-23.0000001 - intervaloLatLong/2), (-46.0000001 - intervaloLatLong/2)], 'raio': intervaloLatLong/2}\r\n",
        "circulo = plt.Circle(CirculoConfig['coordenadas'], CirculoConfig['raio'], color='g', fill=True)\r\n",
        "\r\n",
        "fig, ax = plt.subplots()\r\n",
        "\r\n",
        "ax.plot((-23.0000001 - intervaloLatLong/2), (-46.0000001 - intervaloLatLong/2), 'o', color='black')\r\n",
        "ax.plot([-23.0000001,-23.0000001 - intervaloLatLong, -23.0000001 - intervaloLatLong, -23.0000001, -23.0000001],[-46.0000001,-46.0000001, -46.0000001 - intervaloLatLong, -46.0000001 - intervaloLatLong, -46.0000001], '-', color='r')\r\n",
        "ax.plot(ConjuntoCoordenadas['latitude'], ConjuntoCoordenadas['longitude'], 'o', color='y')\r\n",
        "ax.add_artist(circulo)\r\n",
        "\r\n",
        "ConjuntoCoordenadas.head(5)\r\n",
        "Sucessos = int()\r\n",
        "Falhas = int()\r\n",
        "for ponto in ConjuntoCoordenadas.values.tolist():\r\n",
        "  if (abs((ponto[0] - CirculoConfig['coordenadas'][0])**2) + abs((ponto[1] - CirculoConfig['coordenadas'][1])**2))**(1/2) < CirculoConfig['raio']:\r\n",
        "    Sucessos += 1\r\n",
        "  else:\r\n",
        "    Falhas += 1\r\n",
        "print('Sucessos: {0}\\nFalhas: {1}'.format(Sucessos, Falhas))"
      ],
      "execution_count": 96,
      "outputs": [
        {
          "output_type": "stream",
          "text": [
            "Sucessos: 10\n",
            "Falhas: 0\n"
          ],
          "name": "stdout"
        },
        {
          "output_type": "display_data",
          "data": {
            "image/png": "[encoded data removed]",
            "text/plain": [
              "<Figure size 432x288 with 1 Axes>"
            ]
          },
          "metadata": {
            "tags": [],
            "needs_background": "light"
          }
        }
      ]
    },
    {
      "cell_type": "markdown",
      "metadata": {
        "id": "TpARbsJ5NihP"
      },
      "source": [
        "# Simulação"
      ]
    },
    {
      "cell_type": "code",
      "metadata": {
        "colab": {
          "base_uri": "https://localhost:8080/",
          "height": 1000
        },
        "id": "wbrwWSmTcWkm",
        "outputId": "689e2d4e-cdff-4e21-9809-7780832dc9e0"
      },
      "source": [
        "vezes = 100000\r\n",
        "Empresa100metros = simularPontos(vezes, quantidadeFuncionarios=1000, ladoMetros=100)\r\n",
        "print('\\nQuantidade de testes: {0}\\nMédia de sucessos: {1}\\nMédia de falhas: {2}'.format(vezes,Empresa100metros['Sucessos'].mean(), Empresa100metros['Falhas'].mean()))\r\n",
        "print('\\nModa sucessos: {0}\\nModa falhas: {1}'.format(Empresa100metros['Sucessos'].mode(), Empresa100metros['Falhas'].mode()))\r\n",
        "fig, ax = plt.subplots()\r\n",
        "ax.hist(Empresa100metros['Sucessos'])\r\n"
      ],
      "execution_count": 97,
      "outputs": [
        {
          "output_type": "stream",
          "text": [
            "\n",
            "  0%|          | 0/100000 [00:00<?, ?it/s]\u001b[A\n",
            "  0%|          | 8/100000 [00:00<20:54, 79.71it/s]\u001b[A\n",
            "  0%|          | 130/100000 [00:00<15:01, 110.75it/s]\u001b[A\n",
            "  0%|          | 260/100000 [00:00<10:53, 152.62it/s]\u001b[A\n",
            "  0%|          | 399/100000 [00:00<07:58, 208.20it/s]\u001b[A\n",
            "  1%|          | 533/100000 [00:00<05:56, 278.79it/s]\u001b[A\n",
            "  1%|          | 670/100000 [00:00<04:31, 366.20it/s]\u001b[A\n",
            "  1%|          | 782/100000 [00:00<03:58, 415.38it/s]\u001b[A\n",
            "  1%|          | 921/100000 [00:00<03:08, 525.65it/s]\u001b[A\n",
            "  1%|          | 1051/100000 [00:00<02:34, 639.86it/s]\u001b[A\n",
            "  1%|          | 1184/100000 [00:01<02:10, 757.63it/s]\u001b[A\n",
            "  1%|▏         | 1315/100000 [00:01<01:53, 867.06it/s]\u001b[A\n",
            "  1%|▏         | 1439/100000 [00:01<02:03, 795.26it/s]\u001b[A\n",
            "  2%|▏         | 1571/100000 [00:01<01:49, 902.89it/s]\u001b[A\n",
            "  2%|▏         | 1700/100000 [00:01<01:39, 991.63it/s]\u001b[A\n",
            "  2%|▏         | 1842/100000 [00:01<01:30, 1089.21it/s]\u001b[A\n",
            "  2%|▏         | 1968/100000 [00:01<01:26, 1129.95it/s]\u001b[A\n",
            "  2%|▏         | 2093/100000 [00:01<01:51, 876.41it/s] \u001b[A\n",
            "  2%|▏         | 2221/100000 [00:02<01:41, 967.56it/s]\u001b[A\n",
            "  2%|▏         | 2350/100000 [00:02<01:33, 1044.37it/s]\u001b[A\n",
            "  2%|▏         | 2489/100000 [00:02<01:26, 1127.01it/s]\u001b[A\n",
            "  3%|▎         | 2627/100000 [00:02<01:21, 1191.19it/s]\u001b[A\n",
            "  3%|▎         | 2772/100000 [00:02<01:17, 1256.94it/s]\u001b[A\n",
            "  3%|▎         | 2905/100000 [00:02<01:34, 1029.66it/s]\u001b[A\n",
            "  3%|▎         | 3052/100000 [00:02<01:25, 1130.31it/s]\u001b[A\n",
            "  3%|▎         | 3180/100000 [00:02<01:22, 1171.12it/s]\u001b[A\n",
            "  3%|▎         | 3322/100000 [00:02<01:18, 1235.68it/s]\u001b[A\n",
            "  3%|▎         | 3467/100000 [00:03<01:14, 1290.14it/s]\u001b[A\n",
            "  4%|▎         | 3602/100000 [00:03<01:29, 1073.17it/s]\u001b[A\n",
            "  4%|▎         | 3736/100000 [00:03<01:24, 1139.57it/s]\u001b[A\n",
            "  4%|▍         | 3860/100000 [00:03<01:22, 1166.22it/s]\u001b[A\n",
            "  4%|▍         | 3994/100000 [00:03<01:19, 1212.31it/s]\u001b[A\n",
            "  4%|▍         | 4125/100000 [00:03<01:17, 1238.15it/s]\u001b[A\n",
            "  4%|▍         | 4253/100000 [00:03<01:37, 982.84it/s] \u001b[A\n",
            "  4%|▍         | 4396/100000 [00:03<01:28, 1084.04it/s]\u001b[A\n",
            "  5%|▍         | 4527/100000 [00:04<01:23, 1141.54it/s]\u001b[A\n",
            "  5%|▍         | 4664/100000 [00:04<01:19, 1201.18it/s]\u001b[A\n",
            "  5%|▍         | 4791/100000 [00:04<01:18, 1220.60it/s]\u001b[A\n",
            "  5%|▍         | 4918/100000 [00:04<01:41, 936.36it/s] \u001b[A\n",
            "  5%|▌         | 5046/100000 [00:04<01:33, 1016.82it/s]\u001b[A\n",
            "  5%|▌         | 5189/100000 [00:04<01:25, 1112.09it/s]\u001b[A\n",
            "  5%|▌         | 5322/100000 [00:04<01:21, 1168.77it/s]\u001b[A\n",
            "  5%|▌         | 5448/100000 [00:04<01:21, 1165.72it/s]\u001b[A\n",
            "  6%|▌         | 5571/100000 [00:05<01:41, 932.18it/s] \u001b[A\n",
            "  6%|▌         | 5706/100000 [00:05<01:31, 1026.19it/s]\u001b[A\n",
            "  6%|▌         | 5839/100000 [00:05<01:25, 1099.91it/s]\u001b[A\n",
            "  6%|▌         | 5979/100000 [00:05<01:19, 1175.31it/s]\u001b[A\n",
            "  6%|▌         | 6117/100000 [00:05<01:16, 1229.64it/s]\u001b[A\n",
            "  6%|▋         | 6250/100000 [00:05<01:32, 1010.05it/s]\u001b[A\n",
            "  6%|▋         | 6365/100000 [00:05<01:29, 1047.45it/s]\u001b[A\n",
            "  6%|▋         | 6500/100000 [00:05<01:23, 1120.76it/s]\u001b[A\n",
            "  7%|▋         | 6621/100000 [00:05<01:21, 1144.25it/s]\u001b[A\n",
            "  7%|▋         | 6756/100000 [00:06<01:17, 1197.65it/s]\u001b[A\n",
            "  7%|▋         | 6895/100000 [00:06<01:14, 1248.17it/s]\u001b[A\n",
            "  7%|▋         | 7024/100000 [00:06<01:30, 1032.78it/s]\u001b[A\n",
            "  7%|▋         | 7144/100000 [00:06<01:26, 1076.26it/s]\u001b[A\n",
            "  7%|▋         | 7275/100000 [00:06<01:21, 1135.25it/s]\u001b[A\n",
            "  7%|▋         | 7414/100000 [00:06<01:24, 1101.70it/s]\n"
          ],
          "name": "stderr"
        },
        {
          "output_type": "error",
          "ename": "KeyboardInterrupt",
          "evalue": "ignored",
          "traceback": [
            "\u001b[0;31m---------------------------------------------------------------------------\u001b[0m",
            "\u001b[0;31mKeyboardInterrupt\u001b[0m                         Traceback (most recent call last)",
            "\u001b[0;32m<ipython-input-97-a4e67ac6b99b>\u001b[0m in \u001b[0;36m<module>\u001b[0;34m()\u001b[0m\n\u001b[1;32m      1\u001b[0m \u001b[0mvezes\u001b[0m \u001b[0;34m=\u001b[0m \u001b[0;36m100000\u001b[0m\u001b[0;34m\u001b[0m\u001b[0;34m\u001b[0m\u001b[0m\n\u001b[0;32m----> 2\u001b[0;31m \u001b[0mEmpresa100metros\u001b[0m \u001b[0;34m=\u001b[0m \u001b[0msimularPontos\u001b[0m\u001b[0;34m(\u001b[0m\u001b[0mvezes\u001b[0m\u001b[0;34m,\u001b[0m \u001b[0mquantidadeFuncionarios\u001b[0m\u001b[0;34m=\u001b[0m\u001b[0;36m1000\u001b[0m\u001b[0;34m,\u001b[0m \u001b[0mladoMetros\u001b[0m\u001b[0;34m=\u001b[0m\u001b[0;36m100\u001b[0m\u001b[0;34m)\u001b[0m\u001b[0;34m\u001b[0m\u001b[0;34m\u001b[0m\u001b[0m\n\u001b[0m\u001b[1;32m      3\u001b[0m \u001b[0mprint\u001b[0m\u001b[0;34m(\u001b[0m\u001b[0;34m'\\nQuantidade de testes: {0}\\nMédia de sucessos: {1}\\nMédia de falhas: {2}'\u001b[0m\u001b[0;34m.\u001b[0m\u001b[0mformat\u001b[0m\u001b[0;34m(\u001b[0m\u001b[0mvezes\u001b[0m\u001b[0;34m,\u001b[0m\u001b[0mEmpresa100metros\u001b[0m\u001b[0;34m[\u001b[0m\u001b[0;34m'Sucessos'\u001b[0m\u001b[0;34m]\u001b[0m\u001b[0;34m.\u001b[0m\u001b[0mmean\u001b[0m\u001b[0;34m(\u001b[0m\u001b[0;34m)\u001b[0m\u001b[0;34m,\u001b[0m \u001b[0mEmpresa100metros\u001b[0m\u001b[0;34m[\u001b[0m\u001b[0;34m'Falhas'\u001b[0m\u001b[0;34m]\u001b[0m\u001b[0;34m.\u001b[0m\u001b[0mmean\u001b[0m\u001b[0;34m(\u001b[0m\u001b[0;34m)\u001b[0m\u001b[0;34m)\u001b[0m\u001b[0;34m)\u001b[0m\u001b[0;34m\u001b[0m\u001b[0;34m\u001b[0m\u001b[0m\n\u001b[1;32m      4\u001b[0m \u001b[0mprint\u001b[0m\u001b[0;34m(\u001b[0m\u001b[0;34m'\\nModa sucessos: {0}\\nModa falhas: {1}'\u001b[0m\u001b[0;34m.\u001b[0m\u001b[0mformat\u001b[0m\u001b[0;34m(\u001b[0m\u001b[0mEmpresa100metros\u001b[0m\u001b[0;34m[\u001b[0m\u001b[0;34m'Sucessos'\u001b[0m\u001b[0;34m]\u001b[0m\u001b[0;34m.\u001b[0m\u001b[0mmode\u001b[0m\u001b[0;34m(\u001b[0m\u001b[0;34m)\u001b[0m\u001b[0;34m,\u001b[0m \u001b[0mEmpresa100metros\u001b[0m\u001b[0;34m[\u001b[0m\u001b[0;34m'Falhas'\u001b[0m\u001b[0;34m]\u001b[0m\u001b[0;34m.\u001b[0m\u001b[0mmode\u001b[0m\u001b[0;34m(\u001b[0m\u001b[0;34m)\u001b[0m\u001b[0;34m)\u001b[0m\u001b[0;34m)\u001b[0m\u001b[0;34m\u001b[0m\u001b[0;34m\u001b[0m\u001b[0m\n\u001b[1;32m      5\u001b[0m \u001b[0mfig\u001b[0m\u001b[0;34m,\u001b[0m \u001b[0max\u001b[0m \u001b[0;34m=\u001b[0m \u001b[0mplt\u001b[0m\u001b[0;34m.\u001b[0m\u001b[0msubplots\u001b[0m\u001b[0;34m(\u001b[0m\u001b[0;34m)\u001b[0m\u001b[0;34m\u001b[0m\u001b[0;34m\u001b[0m\u001b[0m\n",
            "\u001b[0;32m<ipython-input-95-f8cf7221af6f>\u001b[0m in \u001b[0;36msimularPontos\u001b[0;34m(vezes, quantidadeFuncionarios, ladoMetros)\u001b[0m\n\u001b[1;32m     13\u001b[0m     \u001b[0;32mfor\u001b[0m \u001b[0mponto\u001b[0m \u001b[0;32min\u001b[0m \u001b[0mConjuntoCoordenadas\u001b[0m\u001b[0;34m.\u001b[0m\u001b[0mvalues\u001b[0m\u001b[0;34m.\u001b[0m\u001b[0mtolist\u001b[0m\u001b[0;34m(\u001b[0m\u001b[0;34m)\u001b[0m\u001b[0;34m:\u001b[0m\u001b[0;34m\u001b[0m\u001b[0;34m\u001b[0m\u001b[0m\n\u001b[1;32m     14\u001b[0m       \u001b[0;32mif\u001b[0m \u001b[0;34m(\u001b[0m\u001b[0mabs\u001b[0m\u001b[0;34m(\u001b[0m\u001b[0;34m(\u001b[0m\u001b[0mponto\u001b[0m\u001b[0;34m[\u001b[0m\u001b[0;36m0\u001b[0m\u001b[0;34m]\u001b[0m \u001b[0;34m-\u001b[0m \u001b[0mCirculoConfig\u001b[0m\u001b[0;34m[\u001b[0m\u001b[0;34m'coordenadas'\u001b[0m\u001b[0;34m]\u001b[0m\u001b[0;34m[\u001b[0m\u001b[0;36m0\u001b[0m\u001b[0;34m]\u001b[0m\u001b[0;34m)\u001b[0m\u001b[0;34m**\u001b[0m\u001b[0;36m2\u001b[0m\u001b[0;34m)\u001b[0m \u001b[0;34m+\u001b[0m \u001b[0mabs\u001b[0m\u001b[0;34m(\u001b[0m\u001b[0;34m(\u001b[0m\u001b[0mponto\u001b[0m\u001b[0;34m[\u001b[0m\u001b[0;36m1\u001b[0m\u001b[0;34m]\u001b[0m \u001b[0;34m-\u001b[0m \u001b[0mCirculoConfig\u001b[0m\u001b[0;34m[\u001b[0m\u001b[0;34m'coordenadas'\u001b[0m\u001b[0;34m]\u001b[0m\u001b[0;34m[\u001b[0m\u001b[0;36m1\u001b[0m\u001b[0;34m]\u001b[0m\u001b[0;34m)\u001b[0m\u001b[0;34m**\u001b[0m\u001b[0;36m2\u001b[0m\u001b[0;34m)\u001b[0m\u001b[0;34m)\u001b[0m\u001b[0;34m**\u001b[0m\u001b[0;34m(\u001b[0m\u001b[0;36m1\u001b[0m\u001b[0;34m/\u001b[0m\u001b[0;36m2\u001b[0m\u001b[0;34m)\u001b[0m \u001b[0;34m<\u001b[0m \u001b[0mCirculoConfig\u001b[0m\u001b[0;34m[\u001b[0m\u001b[0;34m'raio'\u001b[0m\u001b[0;34m]\u001b[0m\u001b[0;34m:\u001b[0m\u001b[0;34m\u001b[0m\u001b[0;34m\u001b[0m\u001b[0m\n\u001b[0;32m---> 15\u001b[0;31m         \u001b[0mSucessos\u001b[0m \u001b[0;34m+=\u001b[0m \u001b[0;36m1\u001b[0m\u001b[0;34m\u001b[0m\u001b[0;34m\u001b[0m\u001b[0m\n\u001b[0m\u001b[1;32m     16\u001b[0m       \u001b[0;32melse\u001b[0m\u001b[0;34m:\u001b[0m\u001b[0;34m\u001b[0m\u001b[0;34m\u001b[0m\u001b[0m\n\u001b[1;32m     17\u001b[0m         \u001b[0mFalhas\u001b[0m \u001b[0;34m+=\u001b[0m \u001b[0;36m1\u001b[0m\u001b[0;34m\u001b[0m\u001b[0;34m\u001b[0m\u001b[0m\n",
            "\u001b[0;31mKeyboardInterrupt\u001b[0m: "
          ]
        }
      ]
    },
    {
      "cell_type": "code",
      "metadata": {
        "colab": {
          "base_uri": "https://localhost:8080/",
          "height": 350
        },
        "id": "O7L64hJhxleB",
        "outputId": "f24cd332-688e-413e-a045-7f199fb92569"
      },
      "source": [
        "plt.hist(Empresa100metros['Falhas'])"
      ],
      "execution_count": 92,
      "outputs": [
        {
          "output_type": "execute_result",
          "data": {
            "text/plain": [
              "(array([1.5000e+01, 3.2500e+02, 3.2610e+03, 1.4270e+04, 2.9064e+04,\n",
              "        3.0914e+04, 1.6791e+04, 4.6010e+03, 6.9400e+02, 6.5000e+01]),\n",
              " array([159. , 169.9, 180.8, 191.7, 202.6, 213.5, 224.4, 235.3, 246.2,\n",
              "        257.1, 268. ]),\n",
              " <a list of 10 Patch objects>)"
            ]
          },
          "metadata": {
            "tags": []
          },
          "execution_count": 92
        },
        {
          "output_type": "display_data",
          "data": {
            "image/png": "[encoded data removed]",
            "text/plain": [
              "<Figure size 432x288 with 1 Axes>"
            ]
          },
          "metadata": {
            "tags": [],
            "needs_background": "light"
          }
        }
      ]
    },
    {
      "cell_type": "code",
      "metadata": {
        "colab": {
          "base_uri": "https://localhost:8080/",
          "height": 49
        },
        "id": "kblnbiwrxH_Z",
        "outputId": "51b647ac-86aa-4406-9513-a712829c81a7"
      },
      "source": [
        "Empresa100metros.query('Sucessos == 0 or Falhas == 0').head()"
      ],
      "execution_count": 93,
      "outputs": [
        {
          "output_type": "execute_result",
          "data": {
            "text/html": [
              "<div>\n",
              "<style scoped>\n",
              "    .dataframe tbody tr th:only-of-type {\n",
              "        vertical-align: middle;\n",
              "    }\n",
              "\n",
              "    .dataframe tbody tr th {\n",
              "        vertical-align: top;\n",
              "    }\n",
              "\n",
              "    .dataframe thead th {\n",
              "        text-align: right;\n",
              "    }\n",
              "</style>\n",
              "<table border=\"1\" class=\"dataframe\">\n",
              "  <thead>\n",
              "    <tr style=\"text-align: right;\">\n",
              "      <th></th>\n",
              "      <th>Sucessos</th>\n",
              "      <th>Falhas</th>\n",
              "      <th>TamanhoLado</th>\n",
              "    </tr>\n",
              "  </thead>\n",
              "  <tbody>\n",
              "  </tbody>\n",
              "</table>\n",
              "</div>"
            ],
            "text/plain": [
              "Empty DataFrame\n",
              "Columns: [Sucessos, Falhas, TamanhoLado]\n",
              "Index: []"
            ]
          },
          "metadata": {
            "tags": []
          },
          "execution_count": 93
        }
      ]
    }
  ]
}