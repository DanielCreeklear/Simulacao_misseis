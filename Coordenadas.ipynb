{
  "nbformat": 4,
  "nbformat_minor": 0,
  "metadata": {
    "colab": {
      "name": "Coordenadas.ipynb",
      "provenance": [],
      "collapsed_sections": [],
      "authorship_tag": "ABX9TyPlkCYHLev0p33BhYeg0jnm",
      "include_colab_link": true
    },
    "kernelspec": {
      "name": "python3",
      "display_name": "Python 3"
    }
  },
  "cells": [
    {
      "cell_type": "markdown",
      "metadata": {
        "id": "view-in-github",
        "colab_type": "text"
      },
      "source": [
        "<a href=\"https://colab.research.google.com/github/DanielCreeklear/Simulacao_misseis/blob/main/Coordenadas.ipynb\" target=\"_parent\"><img src=\"https://colab.research.google.com/assets/colab-badge.svg\" alt=\"Open In Colab\"/></a>"
      ]
    },
    {
      "cell_type": "markdown",
      "metadata": {
        "id": "9JovM50VNRye"
      },
      "source": [
        "# Imports"
      ]
    },
    {
      "cell_type": "code",
      "metadata": {
        "id": "1mgYdbcTu-z5"
      },
      "source": [
        "import pandas as pd\r\n",
        "import numpy as np\r\n",
        "import matplotlib.pyplot as plt\r\n",
        "import random\r\n",
        "from tqdm import tqdm"
      ],
      "execution_count": 1,
      "outputs": []
    },
    {
      "cell_type": "markdown",
      "metadata": {
        "id": "B_XieeO7NVhO"
      },
      "source": [
        "# Funções"
      ]
    },
    {
      "cell_type": "code",
      "metadata": {
        "id": "8mHHaZDSyO-A"
      },
      "source": [
        "def criarCoordenadas(quantidade, intervalo):\r\n",
        "  default_latitude = float(-23.0000001)\r\n",
        "  default_longitude = float(-46.0000001)\r\n",
        "  latitude = [round(random.uniform(default_latitude, default_latitude - intervalo), 7) for x in range(quantidade)]\r\n",
        "  longitude = [round(random.uniform(default_longitude, default_longitude - intervalo), 7) for x in range(quantidade)]\r\n",
        "  coordenadas = {'latitude': latitude, 'longitude': longitude}\r\n",
        "  df = pd.DataFrame(coordenadas)\r\n",
        "  return df"
      ],
      "execution_count": 2,
      "outputs": []
    },
    {
      "cell_type": "markdown",
      "metadata": {
        "id": "MLAo9CS_M7pG"
      },
      "source": [
        "Fórmula para converter Latitude ou Longitude em decimal\r\n",
        "\r\n",
        "![image.png](data:image/png;base64,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)"
      ]
    },
    {
      "cell_type": "code",
      "metadata": {
        "id": "VsHHO4R5yzBW"
      },
      "source": [
        ""
      ],
      "execution_count": null,
      "outputs": []
    },
    {
      "cell_type": "code",
      "metadata": {
        "id": "Mbq5_4gJADte"
      },
      "source": [
        "def converterIntervalosMetros(metros):\r\n",
        "  delta_Latitude_Longitude = metros / (2**(1/2))\r\n",
        "  return int(delta_Latitude_Longitude)*(10**-7)"
      ],
      "execution_count": 3,
      "outputs": []
    },
    {
      "cell_type": "code",
      "metadata": {
        "id": "sMzlZuhluCR-"
      },
      "source": [
        "def converterGraus_Metros(Graus, Minutos, Segundos):\r\n",
        "  return (((Graus * 60) + (Minutos) + (Segundos / 60)) * 1.852)"
      ],
      "execution_count": 45,
      "outputs": []
    },
    {
      "cell_type": "code",
      "metadata": {
        "id": "p8GU4WBXi_ql"
      },
      "source": [
        "def calcularDistanciaCoordenada_to_Metros(CoordenadaInicial, CoordenadaFinal):\r\n",
        "  if identificarTipoCoordenada(CoordenadaInicial) == 'Decimal':\r\n",
        "    CoordenadaInicial = trocarTipoCoordenada(CoordenadasInicial)\r\n",
        "  elif identificarTipoCoordenada(CoordenadaFinal) == 'Decimal':\r\n",
        "    CoordenadaFinal = trocarTipoCoordenada(CoordenadaFinal)\r\n",
        "  Graus, Minutos, Segundos = lerCoordenadasGraus(subtrairGraus(CoordenadaInicial, CoordenadaFinal))\r\n",
        "  return converterGraus_Metros(Graus, Minutos, Segundos)"
      ],
      "execution_count": 72,
      "outputs": []
    },
    {
      "cell_type": "code",
      "metadata": {
        "id": "FwUx5V8901af"
      },
      "source": [
        "def calcularDistancia_DoisPontos(CoordenadasInicial, CoordenadasFinal):\r\n",
        "  ((calcularDistanciaCoordenada_to_Metros(CoordenadasInicial[0], CoordenadasFinal[0])**2) + (calcularDistanciaCoordenada_to_Metros(CoordenadasInicial[1], CoordenadasFinal[1])**2))**1/2\r\n",
        "  return ((calcularDistanciaCoordenada_to_Metros(CoordenadasInicial[0], CoordenadasFinal[0])**2) + (calcularDistanciaCoordenada_to_Metros(CoordenadasInicial[1], CoordenadasFinal[1])**2))**1/2"
      ],
      "execution_count": 73,
      "outputs": []
    },
    {
      "cell_type": "code",
      "metadata": {
        "id": "DQ2tOTaYsIf3"
      },
      "source": [
        "def subtrairGraus(Inicial, Final):\r\n",
        "  GrausInicial, MinutosInicial, SegundosInicial = lerCoordenadasGraus(Inicial)\r\n",
        "  GrausFinal, MinutosFinal, SegundosFinal = lerCoordenadasGraus(Final)\r\n",
        "  return '{0:.8f}° {1:.8f}\\' {2:.8f}\\\"'.format(float(GrausFinal - GrausInicial), float(MinutosFinal - MinutosInicial), float(SegundosFinal - SegundosInicial))"
      ],
      "execution_count": 76,
      "outputs": []
    },
    {
      "cell_type": "code",
      "metadata": {
        "id": "5fYr7g_doMZd"
      },
      "source": [
        "def identificarTipoCoordenada(Coordenada):\r\n",
        "  if type(Coordenada) == 'string':\r\n",
        "    return 'Graus'\r\n",
        "  if type(Coordenada) == 'float':\r\n",
        "    return 'Decimal'\r\n",
        "  else:\r\n",
        "    return None"
      ],
      "execution_count": 55,
      "outputs": []
    },
    {
      "cell_type": "code",
      "metadata": {
        "id": "axj1V-Iwp8gW"
      },
      "source": [
        "def trocarTipoCoordenada(Coordenada, Tipo):\r\n",
        "  if Tipo == 'Graus':\r\n",
        "    Graus, Minutos, Segundos = lerCoordenadasGraus(Coordenada)\r\n",
        "    return converterCoordenadas_to_Decimal(Graus, Minutos, Segundos)\r\n",
        "  if Tipo == 'Decimal':\r\n",
        "    return converterDecimal_to_Coordenadas(Coordenada)"
      ],
      "execution_count": 31,
      "outputs": []
    },
    {
      "cell_type": "code",
      "metadata": {
        "id": "zZn0-lSaVSUr"
      },
      "source": [
        "def truncar(x, n):\r\n",
        "  return (((10 ** n) * x) / 10 ** n)"
      ],
      "execution_count": 5,
      "outputs": []
    },
    {
      "cell_type": "code",
      "metadata": {
        "id": "kVl_VhP2MjxQ"
      },
      "source": [
        "def converterCoordenadas_to_Decimal(graus, minutos, segundos):\r\n",
        "  return (graus + (minutos/60) + (segundos/3600))"
      ],
      "execution_count": 67,
      "outputs": []
    },
    {
      "cell_type": "code",
      "metadata": {
        "id": "0f2VGjDNMsvu"
      },
      "source": [
        "def converterDecimal_to_Coordenadas(CoordenadasDecimal):\r\n",
        "  Graus = truncar(CoordenadasDecimal, 0)\r\n",
        "  Minutos = truncar((abs(CoordenadasDecimal) * 60) % 60, 0)\r\n",
        "  Segundos = (abs(CoordenadasDecimal) * 3600) % 60\r\n",
        "  return '{0:.8f}° {1:.8f}\\' {2:.8f}\\\"'.format(Graus, Minutos, Segundos)"
      ],
      "execution_count": 75,
      "outputs": []
    },
    {
      "cell_type": "code",
      "metadata": {
        "id": "_7PlEs8wXV10"
      },
      "source": [
        "def lerCoordenadasGraus(CoordenadasGrau):\r\n",
        "  Coordenadas = CoordenadasGrau.replace(' ', '')\r\n",
        "  indexGraus = []\r\n",
        "  indexMinutos = []\r\n",
        "  indexSegundos = []\r\n",
        "  GrausPreenchido = False\r\n",
        "  MinutosPreenchido = False\r\n",
        "  SegundosPreenchido = False\r\n",
        "  i = 0\r\n",
        "  while i < len(Coordenadas):\r\n",
        "    caracter = Coordenadas[i]\r\n",
        "    if not (caracter.isdigit()) and not (caracter == '-') and not (caracter == '.'):\r\n",
        "      if not (GrausPreenchido):\r\n",
        "        indexGraus.append(0)\r\n",
        "        indexGraus.append(i)\r\n",
        "        GrausPreenchido = True\r\n",
        "      elif not (MinutosPreenchido):\r\n",
        "        indexMinutos.append(indexGraus[1] + 1)\r\n",
        "        indexMinutos.append(i)\r\n",
        "        MinutosPreenchido = True\r\n",
        "      elif not (SegundosPreenchido):\r\n",
        "        indexSegundos.append(indexMinutos[1] + 1)\r\n",
        "        indexSegundos.append(i)\r\n",
        "        SegundosPreenchido = True\r\n",
        "    i += 1\r\n",
        "  Graus = float(Coordenadas[indexGraus[0]:indexGraus[1]])\r\n",
        "  Minutos = float(Coordenadas[indexMinutos[0]:indexMinutos[1]])\r\n",
        "  Segundos = float(Coordenadas[indexSegundos[0]:indexSegundos[1]])\r\n",
        "  return Graus, Minutos, Segundos"
      ],
      "execution_count": 65,
      "outputs": []
    },
    {
      "cell_type": "code",
      "metadata": {
        "id": "uosAwf97g61E",
        "colab": {
          "base_uri": "https://localhost:8080/"
        },
        "outputId": "a9457c0d-27fd-44c2-e0a9-20c584d02f75"
      },
      "source": [
        "coordenadas = '23.5° 27.4\\' 8.6\\\"'\r\n",
        "coordenadasDecimal = converterCoordenadas_to_Decimal(lerCoordenadasGraus(coordenadas)[0], lerCoordenadasGraus(coordenadas)[1], lerCoordenadasGraus(coordenadas)[2])\r\n",
        "LatAndLon = converterDecimal_to_Coordenadas(coordenadasDecimal)\r\n",
        "print(coordenadasDecimal)\r\n",
        "print(LatAndLon)"
      ],
      "execution_count": 66,
      "outputs": [
        {
          "output_type": "stream",
          "text": [
            "23.959055555555555\n",
            "23.96° 57.54' 32.60\"\n"
          ],
          "name": "stdout"
        }
      ]
    },
    {
      "cell_type": "code",
      "metadata": {
        "colab": {
          "base_uri": "https://localhost:8080/"
        },
        "id": "iUIrdm67j5dd",
        "outputId": "d3e267dc-881c-49a9-b3b4-0bcfeaf16cd8"
      },
      "source": [
        "CoordenadasInicial = [converterDecimal_to_Coordenadas(-23.746926592484332), converterDecimal_to_Coordenadas(-46.68452322989165)]\r\n",
        "print('Latitude Inicial: {0} Longitude Inicial: {1}'.format(CoordenadasInicial[0], CoordenadasInicial[1]))\r\n",
        "Graus, Minutos, Segundos = lerCoordenadasGraus(CoordenadasInicial[0])\r\n",
        "LatitudeInicial = converterCoordenadas_to_Decimal(Graus, Minutos, Segundos)\r\n",
        "Graus, Minutos, Segundos = lerCoordenadasGraus(CoordenadasInicial[1])\r\n",
        "LongitudeInicial = converterCoordenadas_to_Decimal(Graus, Minutos, Segundos)\r\n",
        "CoordenadasFinal = [converterDecimal_to_Coordenadas(-23.74694930195004), converterDecimal_to_Coordenadas(-46.684029284195844)]\r\n",
        "print('Latitude Final: {0} Longitude Final: {1}'.format(CoordenadasFinal[0], CoordenadasFinal[1]))\r\n",
        "Graus, Minutos, Segundos = lerCoordenadasGraus(CoordenadasFinal[0])\r\n",
        "LatitudeFinal = converterCoordenadas_to_Decimal(Graus, Minutos, Segundos)\r\n",
        "Graus, Minutos, Segundos = lerCoordenadasGraus(CoordenadasFinal[1])\r\n",
        "LongitudeFinal = converterCoordenadas_to_Decimal(Graus, Minutos, Segundos)\r\n",
        "print(calcularDistancia_DoisPontos(CoordenadasInicial, CoordenadasFinal))"
      ],
      "execution_count": 78,
      "outputs": [
        {
          "output_type": "stream",
          "text": [
            "Latitude Inicial: -23.74692659° 44.81559555' 48.93573294\" Longitude Inicial: -46.68452323° 41.07139379' 4.28362761\"\n",
            "Latitude Final: -23.74694930° 44.81695812' 49.01748702\" Longitude Final: -46.68402928° 41.04175705' 2.50542311\"\n",
            "0.0015094622589542364\n"
          ],
          "name": "stdout"
        }
      ]
    },
    {
      "cell_type": "code",
      "metadata": {
        "colab": {
          "base_uri": "https://localhost:8080/"
        },
        "id": "ynDQvg7Cuv3H",
        "outputId": "c13ca346-2059-4b1f-99b1-e517d3b7d055"
      },
      "source": [
        "((-2472.7904000000003**2) - ((-5035.464533333334)**2))**1/2"
      ],
      "execution_count": 51,
      "outputs": [
        {
          "output_type": "execute_result",
          "data": {
            "text/plain": [
              "-15735297.714395026"
            ]
          },
          "metadata": {
            "tags": []
          },
          "execution_count": 51
        }
      ]
    },
    {
      "cell_type": "code",
      "metadata": {
        "id": "dWw5-_o2Z4_V"
      },
      "source": [
        "def simularPontos(vezes, quantidadeFuncionarios, ladoMetros):\r\n",
        "  ResultadoSucessos = []\r\n",
        "  ResultadoFalhas = []\r\n",
        "  TamanhoMetros = [ladoMetros for x in range(vezes)]\r\n",
        "  for n in tqdm(range(vezes)):\r\n",
        "    intervaloLatLong = converterIntervalosMetros(ladoMetros)\r\n",
        "    ConjuntoCoordenadas = criarCoordenadas(quantidadeFuncionarios, intervaloLatLong)\r\n",
        "    CirculoConfig = {'coordenadas': [(-23.0000001 - intervaloLatLong/2), (-46.0000001 - intervaloLatLong/2)], 'raio': intervaloLatLong/2}\r\n",
        "    Sucessos = int()\r\n",
        "    Falhas = int()\r\n",
        "    for ponto in ConjuntoCoordenadas.values.tolist():\r\n",
        "      if (abs((ponto[0] - CirculoConfig['coordenadas'][0])**2) + abs((ponto[1] - CirculoConfig['coordenadas'][1])**2))**(1/2) < CirculoConfig['raio']:\r\n",
        "        Sucessos += 1\r\n",
        "      else:\r\n",
        "        Falhas += 1\r\n",
        "    ResultadoSucessos.append(Sucessos)\r\n",
        "    ResultadoFalhas.append(Falhas)\r\n",
        "  ResultadoTeste = {'Sucessos': ResultadoSucessos, 'Falhas': ResultadoFalhas, 'TamanhoLado': TamanhoMetros}\r\n",
        "  return pd.DataFrame(ResultadoTeste)"
      ],
      "execution_count": null,
      "outputs": []
    },
    {
      "cell_type": "markdown",
      "metadata": {
        "id": "O8ZuayydNaAe"
      },
      "source": [
        "# Teste visual"
      ]
    },
    {
      "cell_type": "code",
      "metadata": {
        "colab": {
          "base_uri": "https://localhost:8080/",
          "height": 323
        },
        "id": "dfxpcDqh16DC",
        "outputId": "bf064a9a-d699-43bf-c653-0e7a3b63ac5e"
      },
      "source": [
        "intervaloLatLong = converterIntervalosMetros(10)\r\n",
        "ConjuntoCoordenadas = criarCoordenadas(10, intervaloLatLong)\r\n",
        "\r\n",
        "CirculoConfig = {'coordenadas': [(-23.0000001 - intervaloLatLong/2), (-46.0000001 - intervaloLatLong/2)], 'raio': intervaloLatLong/2}\r\n",
        "circulo = plt.Circle(CirculoConfig['coordenadas'], CirculoConfig['raio'], color='g', fill=True)\r\n",
        "\r\n",
        "fig, ax = plt.subplots()\r\n",
        "\r\n",
        "ax.plot((-23.0000001 - intervaloLatLong/2), (-46.0000001 - intervaloLatLong/2), 'o', color='black')\r\n",
        "ax.plot([-23.0000001,-23.0000001 - intervaloLatLong, -23.0000001 - intervaloLatLong, -23.0000001, -23.0000001],[-46.0000001,-46.0000001, -46.0000001 - intervaloLatLong, -46.0000001 - intervaloLatLong, -46.0000001], '-', color='r')\r\n",
        "ax.plot(ConjuntoCoordenadas['latitude'], ConjuntoCoordenadas['longitude'], 'o', color='y')\r\n",
        "ax.add_artist(circulo)\r\n",
        "\r\n",
        "ConjuntoCoordenadas.head(5)\r\n",
        "Sucessos = int()\r\n",
        "Falhas = int()\r\n",
        "for ponto in ConjuntoCoordenadas.values.tolist():\r\n",
        "  if (abs((ponto[0] - CirculoConfig['coordenadas'][0])**2) + abs((ponto[1] - CirculoConfig['coordenadas'][1])**2))**(1/2) < CirculoConfig['raio']:\r\n",
        "    Sucessos += 1\r\n",
        "  else:\r\n",
        "    Falhas += 1\r\n",
        "print('Sucessos: {0}\\nFalhas: {1}'.format(Sucessos, Falhas))"
      ],
      "execution_count": null,
      "outputs": [
        {
          "output_type": "stream",
          "text": [
            "Sucessos: 7\n",
            "Falhas: 3\n"
          ],
          "name": "stdout"
        },
        {
          "output_type": "display_data",
          "data": {
            "image/png": "[encoded data removed]",
            "text/plain": [
              "<Figure size 432x288 with 1 Axes>"
            ]
          },
          "metadata": {
            "tags": [],
            "needs_background": "light"
          }
        }
      ]
    },
    {
      "cell_type": "markdown",
      "metadata": {
        "id": "TpARbsJ5NihP"
      },
      "source": [
        "# Simulação"
      ]
    },
    {
      "cell_type": "code",
      "metadata": {
        "colab": {
          "base_uri": "https://localhost:8080/",
          "height": 309
        },
        "id": "wbrwWSmTcWkm",
        "outputId": "21e5f97b-73c6-454f-c954-6137ea205944"
      },
      "source": [
        "vezes = 10000\r\n",
        "Empresa100metros = simularPontos(vezes, quantidadeFuncionarios=1000, ladoMetros=10000)\r\n",
        "print('\\nQuantidade de testes: {0}\\nMédia de sucessos: {1}\\nMédia de falhas: {2}'.format(vezes,Empresa100metros['Sucessos'].mean(), Empresa100metros['Falhas'].mean()))\r\n",
        "print('\\nModa sucessos: {0}\\nModa falhas: {1}'.format(Empresa100metros['Sucessos'].mode(), Empresa100metros['Falhas'].mode()))\r\n",
        "fig, ax = plt.subplots()\r\n",
        "ax.hist(Empresa100metros['Sucessos'])\r\n"
      ],
      "execution_count": null,
      "outputs": [
        {
          "output_type": "stream",
          "text": [
            "100%|██████████| 10000/10000 [00:38<00:00, 261.50it/s]"
          ],
          "name": "stderr"
        },
        {
          "output_type": "stream",
          "text": [
            "\n",
            "Quantidade de testes: 10000\n",
            "Média de sucessos: 785.6422\n",
            "Média de falhas: 214.3578\n",
            "\n",
            "Moda sucessos: 0    784\n",
            "dtype: int64\n",
            "Moda falhas: 0    216\n",
            "dtype: int64\n"
          ],
          "name": "stdout"
        },
        {
          "output_type": "stream",
          "text": [
            "\n"
          ],
          "name": "stderr"
        },
        {
          "output_type": "execute_result",
          "data": {
            "text/plain": [
              "(array([   7.,   59.,  339., 1153., 2447., 2979., 1938.,  879.,  178.,\n",
              "          21.]),\n",
              " array([734. , 743.7, 753.4, 763.1, 772.8, 782.5, 792.2, 801.9, 811.6,\n",
              "        821.3, 831. ]),\n",
              " <a list of 10 Patch objects>)"
            ]
          },
          "metadata": {
            "tags": []
          },
          "execution_count": 45
        },
        {
          "output_type": "display_data",
          "data": {
            "image/png": "[encoded data removed]",
            "text/plain": [
              "<Figure size 432x288 with 1 Axes>"
            ]
          },
          "metadata": {
            "tags": [],
            "needs_background": "light"
          }
        }
      ]
    },
    {
      "cell_type": "code",
      "metadata": {
        "colab": {
          "base_uri": "https://localhost:8080/",
          "height": 333
        },
        "id": "O7L64hJhxleB",
        "outputId": "ad42e871-694c-4e9a-eb81-171b5914ce7a"
      },
      "source": [
        "plt.hist(Empresa100metros['Falhas'])"
      ],
      "execution_count": null,
      "outputs": [
        {
          "output_type": "execute_result",
          "data": {
            "text/plain": [
              "(array([ 942., 2377., 3080.,    0., 2128., 1066.,    0.,  319.,   77.,\n",
              "          11.]),\n",
              " array([0. , 0.7, 1.4, 2.1, 2.8, 3.5, 4.2, 4.9, 5.6, 6.3, 7. ]),\n",
              " <a list of 10 Patch objects>)"
            ]
          },
          "metadata": {
            "tags": []
          },
          "execution_count": 38
        },
        {
          "output_type": "display_data",
          "data": {
            "image/png": "[encoded data removed]",
            "text/plain": [
              "<Figure size 432x288 with 1 Axes>"
            ]
          },
          "metadata": {
            "tags": [],
            "needs_background": "light"
          }
        }
      ]
    },
    {
      "cell_type": "code",
      "metadata": {
        "colab": {
          "base_uri": "https://localhost:8080/",
          "height": 204
        },
        "id": "kblnbiwrxH_Z",
        "outputId": "8bb18750-8ef2-455a-f576-250d847dc012"
      },
      "source": [
        "Empresa100metros.query('Sucessos == 0 or Falhas == 0').head()"
      ],
      "execution_count": null,
      "outputs": [
        {
          "output_type": "execute_result",
          "data": {
            "text/html": [
              "<div>\n",
              "<style scoped>\n",
              "    .dataframe tbody tr th:only-of-type {\n",
              "        vertical-align: middle;\n",
              "    }\n",
              "\n",
              "    .dataframe tbody tr th {\n",
              "        vertical-align: top;\n",
              "    }\n",
              "\n",
              "    .dataframe thead th {\n",
              "        text-align: right;\n",
              "    }\n",
              "</style>\n",
              "<table border=\"1\" class=\"dataframe\">\n",
              "  <thead>\n",
              "    <tr style=\"text-align: right;\">\n",
              "      <th></th>\n",
              "      <th>Sucessos</th>\n",
              "      <th>Falhas</th>\n",
              "      <th>TamanhoLado</th>\n",
              "    </tr>\n",
              "  </thead>\n",
              "  <tbody>\n",
              "    <tr>\n",
              "      <th>44</th>\n",
              "      <td>10</td>\n",
              "      <td>0</td>\n",
              "      <td>1000</td>\n",
              "    </tr>\n",
              "    <tr>\n",
              "      <th>61</th>\n",
              "      <td>10</td>\n",
              "      <td>0</td>\n",
              "      <td>1000</td>\n",
              "    </tr>\n",
              "    <tr>\n",
              "      <th>73</th>\n",
              "      <td>10</td>\n",
              "      <td>0</td>\n",
              "      <td>1000</td>\n",
              "    </tr>\n",
              "    <tr>\n",
              "      <th>76</th>\n",
              "      <td>10</td>\n",
              "      <td>0</td>\n",
              "      <td>1000</td>\n",
              "    </tr>\n",
              "    <tr>\n",
              "      <th>87</th>\n",
              "      <td>10</td>\n",
              "      <td>0</td>\n",
              "      <td>1000</td>\n",
              "    </tr>\n",
              "  </tbody>\n",
              "</table>\n",
              "</div>"
            ],
            "text/plain": [
              "    Sucessos  Falhas  TamanhoLado\n",
              "44        10       0         1000\n",
              "61        10       0         1000\n",
              "73        10       0         1000\n",
              "76        10       0         1000\n",
              "87        10       0         1000"
            ]
          },
          "metadata": {
            "tags": []
          },
          "execution_count": 40
        }
      ]
    }
  ]
}